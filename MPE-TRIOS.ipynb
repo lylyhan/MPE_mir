{
 "cells": [
  {
   "cell_type": "code",
   "execution_count": 120,
   "metadata": {},
   "outputs": [],
   "source": [
    "import os\n",
    "import matplotlib.pyplot as plt\n",
    "import pandas as pd\n",
    "import mir_eval"
   ]
  },
  {
   "cell_type": "markdown",
   "metadata": {},
   "source": [
    "## Apply trained CNN model onto test data (TRIOS dataset)"
   ]
  },
  {
   "cell_type": "markdown",
   "metadata": {},
   "source": [
    "display dataset directories"
   ]
  },
  {
   "cell_type": "code",
   "execution_count": 72,
   "metadata": {},
   "outputs": [
    {
     "data": {
      "text/plain": [
       "['mozart',\n",
       " 'MPE-TRIOS.ipynb',\n",
       " '.DS_Store',\n",
       " 'clarinet.txt',\n",
       " 'piano_multif0_multif0.txt',\n",
       " 'piano.txt',\n",
       " 'Pretty Midi Ground Truth.ipynb',\n",
       " 'README.md',\n",
       " '.ipynb_checkpoints',\n",
       " '.git']"
      ]
     },
     "execution_count": 72,
     "metadata": {},
     "output_type": "execute_result"
    }
   ],
   "source": [
    "os.listdir('.')\n"
   ]
  },
  {
   "cell_type": "code",
   "execution_count": 9,
   "metadata": {},
   "outputs": [
    {
     "data": {
      "text/plain": [
       "['mozart',\n",
       " '.DS_Store',\n",
       " 'lussier',\n",
       " 'schubert',\n",
       " 'brahms',\n",
       " 'take_five',\n",
       " 'TRIOSS_information_sheet.pdf']"
      ]
     },
     "execution_count": 9,
     "metadata": {},
     "output_type": "execute_result"
    }
   ],
   "source": [
    "os.listdir('../dataset/TRIOS_dataset')"
   ]
  },
  {
   "cell_type": "code",
   "execution_count": 60,
   "metadata": {},
   "outputs": [],
   "source": [
    "#pick a test audio mix \n",
    "test_audio_path = \"../dataset/TRIOS_dataset/mozart/\"\n",
    "test_audio = \"piano.wav\"\n",
    "save_path = \"../predictions/TRIOS/mozart/\"\n",
    "weights_path = \"../ismir2017-deepsalience/predict/\""
   ]
  },
  {
   "cell_type": "markdown",
   "metadata": {},
   "source": [
    "perform multipitch estimation and output prediction as txt files (is there a limit in wavefile length? - each 40 sec)"
   ]
  },
  {
   "cell_type": "code",
   "execution_count": 61,
   "metadata": {
    "scrolled": true
   },
   "outputs": [
    {
     "data": {
      "text/plain": [
       "0"
      ]
     },
     "execution_count": 61,
     "metadata": {},
     "output_type": "execute_result"
    }
   ],
   "source": [
    "os.system('python ../ismir2017-deepsalience/predict/predict_on_audio.py '\n",
    "          + test_audio_path + test_audio + ' multif0 '+ save_path + ' ' + weights_path +' -f multif0')"
   ]
  },
  {
   "cell_type": "code",
   "execution_count": 62,
   "metadata": {},
   "outputs": [
    {
     "data": {
      "text/plain": [
       "['mix_multif0_salience.npz',\n",
       " 'piano_multif0_multif0.csv',\n",
       " 'mix_multif0_multif0.csv']"
      ]
     },
     "execution_count": 62,
     "metadata": {},
     "output_type": "execute_result"
    }
   ],
   "source": [
    "os.listdir(save_path)"
   ]
  },
  {
   "cell_type": "markdown",
   "metadata": {},
   "source": [
    "generate ground truth labels (in the format of txt files) from midi files in TRIOS datset"
   ]
  },
  {
   "cell_type": "code",
   "execution_count": 56,
   "metadata": {},
   "outputs": [],
   "source": [
    "import pretty_midi\n",
    "import numpy as np\n",
    "import librosa"
   ]
  },
  {
   "cell_type": "code",
   "execution_count": 110,
   "metadata": {},
   "outputs": [],
   "source": [
    "def get_ground_truth(file_in, file_out): \n",
    "    sr = 100\n",
    "    pm = pretty_midi.PrettyMIDI(file_in)\n",
    "    pr = pm.get_piano_roll(fs=sr, times=None)\n",
    "    ground_truth = []\n",
    "    string_out = ''\n",
    "    times = []\n",
    "    freqs = []\n",
    "    for tTick, notes in enumerate(pr.T):\n",
    "        time = str(tTick / 100.0)\n",
    "        chord = [note for note, vel in enumerate(notes) if vel > 0]\n",
    "        chord_Freq = [str(librosa.core.midi_to_hz(note)) for note in chord]\n",
    "        chord_Freqf = [librosa.core.midi_to_hz(note) for note in chord]\n",
    "        #\n",
    "        freqs.extend(chord_Freqf)\n",
    "        times.extend(np.ones(np.array(chord_Freq).shape)*float(time))\n",
    "        #\n",
    "        written = \"{0}\t{1}\".format(time, '\t'.join(chord_Freq))\n",
    "        string_out += written + '\\n'\n",
    "    \n",
    "    f = open(file_out, 'w+') \n",
    "    f.write(string_out) \n",
    "    f.close()\n",
    "    return times, freqs"
   ]
  },
  {
   "cell_type": "code",
   "execution_count": 107,
   "metadata": {},
   "outputs": [],
   "source": [
    "midi_gt = test_audio_path + test_audio[:-4] + \".mid\"\n",
    "gt_file = save_path + \"gt_\" + test_audio[:-4] + \".txt\""
   ]
  },
  {
   "cell_type": "code",
   "execution_count": 111,
   "metadata": {
    "scrolled": false
   },
   "outputs": [
    {
     "data": {
      "text/plain": [
       "Text(0.5, 1.0, 'piano ground truth')"
      ]
     },
     "execution_count": 111,
     "metadata": {},
     "output_type": "execute_result"
    },
    {
     "data": {
      "image/png": "[encoded data removed]",
      "text/plain": [
       "<Figure size 432x288 with 1 Axes>"
      ]
     },
     "metadata": {
      "needs_background": "light"
     },
     "output_type": "display_data"
    }
   ],
   "source": [
    "times,freqs = get_ground_truth(midi_gt, gt_file)\n",
    "plt.scatter(times,freqs)\n",
    "plt.title(test_audio[:-4]+\" ground truth\")"
   ]
  },
  {
   "cell_type": "code",
   "execution_count": 79,
   "metadata": {},
   "outputs": [
    {
     "name": "stdout",
     "output_type": "stream",
     "text": [
      "(2885, 1)\n"
     ]
    }
   ],
   "source": [
    "prediction = pd.read_csv(save_path + \"piano_multif0_multif0.csv\")\n",
    "print(prediction.shape)"
   ]
  },
  {
   "cell_type": "code",
   "execution_count": 115,
   "metadata": {},
   "outputs": [],
   "source": [
    "def plot_prediction(file_name):\n",
    "    lines = open(save_path + file_name,'r').readlines()\n",
    "    predict_times = []\n",
    "    predict_freqs = []\n",
    "    for line in lines:\n",
    "        if len(line.split())>1:\n",
    "            for i in range(len(line.split())):\n",
    "                time = line.split()[0]\n",
    "                chord_Freq = [float(freq) for freq in line.split()[1:]]\n",
    "                predict_freqs.extend(chord_Freq)\n",
    "                predict_times.extend(np.ones(np.array(chord_Freq).shape) * float(time))\n",
    "\n",
    "    return predict_times, predict_freqs\n",
    "    "
   ]
  },
  {
   "cell_type": "code",
   "execution_count": 116,
   "metadata": {
    "scrolled": false
   },
   "outputs": [
    {
     "name": "stdout",
     "output_type": "stream",
     "text": [
      "10470 6257 10470\n"
     ]
    }
   ],
   "source": [
    "print(len(predict_times),len(times),len(predict_freqs))"
   ]
  },
  {
   "cell_type": "code",
   "execution_count": 118,
   "metadata": {},
   "outputs": [],
   "source": [
    "predict_times,predict_freqs = plot_prediction(\"piano_multif0_multif0.csv\")"
   ]
  },
  {
   "cell_type": "code",
   "execution_count": 119,
   "metadata": {
    "scrolled": true
   },
   "outputs": [
    {
     "data": {
      "text/plain": [
       "Text(0.5, 1.0, 'piano prediction ')"
      ]
     },
     "execution_count": 119,
     "metadata": {},
     "output_type": "execute_result"
    },
    {
     "data": {
      "image/png": "[encoded data removed]",
      "text/plain": [
       "<Figure size 432x288 with 1 Axes>"
      ]
     },
     "metadata": {
      "needs_background": "light"
     },
     "output_type": "display_data"
    }
   ],
   "source": [
    "plt.scatter(predict_times,predict_freqs)\n",
    "plt.title(test_audio[:-4]+\" prediction \")"
   ]
  },
  {
   "cell_type": "markdown",
   "metadata": {},
   "source": [
    "evaluate prediction vs. ground truth"
   ]
  },
  {
   "cell_type": "code",
   "execution_count": 123,
   "metadata": {},
   "outputs": [
    {
     "name": "stderr",
     "output_type": "stream",
     "text": [
      "/Users/lilyh/anaconda3/lib/python3.6/site-packages/mir_eval/multipitch.py:410: UserWarning: Estimate times not equal to reference times. Resampling to common time base.\n",
      "  warnings.warn(\"Estimate times not equal to reference times. \"\n"
     ]
    }
   ],
   "source": [
    "ref_times, ref_freqs = mir_eval.io.load_ragged_time_series(save_path+\"gt_piano.txt\")\n",
    "\n",
    "# load est labels\n",
    "est_times, est_freqs = mir_eval.io.load_ragged_time_series(save_path+\"piano_multif0_multif0.csv\")\n",
    "\n",
    "# get multif0 metrics and append\n",
    "scores = mir_eval.multipitch.evaluate(ref_times, ref_freqs, est_times, est_freqs)\n"
   ]
  },
  {
   "cell_type": "code",
   "execution_count": 124,
   "metadata": {
    "scrolled": true
   },
   "outputs": [
    {
     "data": {
      "text/plain": [
       "OrderedDict([('Precision', 0.9229908215804791),\n",
       "             ('Recall', 0.658941984976826),\n",
       "             ('Accuracy', 0.6246023329798516),\n",
       "             ('Substitution Error', 0.017740131053220393),\n",
       "             ('Miss Error', 0.32331788396995365),\n",
       "             ('False Alarm Error', 0.03723829311171488),\n",
       "             ('Total Error', 0.3782963081348889),\n",
       "             ('Chroma Precision', 0.926124916051041),\n",
       "             ('Chroma Recall', 0.6611794789835385),\n",
       "             ('Chroma Accuracy', 0.6280552603613178),\n",
       "             ('Chroma Substitution Error', 0.015502637046507912),\n",
       "             ('Chroma Miss Error', 0.32331788396995365),\n",
       "             ('Chroma False Alarm Error', 0.03723829311171488),\n",
       "             ('Chroma Total Error', 0.37605881412817643)])"
      ]
     },
     "execution_count": 124,
     "metadata": {},
     "output_type": "execute_result"
    }
   ],
   "source": [
    "scores"
   ]
  },
  {
   "cell_type": "code",
   "execution_count": null,
   "metadata": {},
   "outputs": [],
   "source": []
  },
  {
   "cell_type": "code",
   "execution_count": null,
   "metadata": {},
   "outputs": [],
   "source": []
  },
  {
   "cell_type": "code",
   "execution_count": null,
   "metadata": {},
   "outputs": [],
   "source": []
  },
  {
   "cell_type": "code",
   "execution_count": null,
   "metadata": {},
   "outputs": [],
   "source": [
    "def get_mf0_scores(est_path, ref_path, test_set_name, algorithm_name):\n",
    "\n",
    "    all_scores = []\n",
    "    est_files = glob.glob(os.path.join(est_path, '*.txt'))\n",
    "\n",
    "    for est_file in est_files:\n",
    "        file_key = \"_\".join(os.path.basename(est_file).replace('-', '_').split('_')[:2])\n",
    "        file_key = file_key.split('.')[0]\n",
    "        print(file_key)\n",
    "        file_glob = glob.glob(os.path.join(ref_path, '{}*.txt'.format(file_key)))\n",
    "        if len(file_glob) > 1:\n",
    "            print(file_glob)\n",
    "        ref_file = file_glob[0]\n",
    "\n",
    "        # load ground truth labels\n",
    "        ref_times, ref_freqs = \\\n",
    "            mir_eval.io.load_ragged_time_series(ref_file)\n",
    "\n",
    "        # load est labels\n",
    "        est_times, est_freqs = \\\n",
    "            mir_eval.io.load_ragged_time_series(est_file)\n",
    "\n",
    "        # get multif0 metrics and append\n",
    "        scores = mir_eval.multipitch.evaluate(\n",
    "            ref_times, ref_freqs, est_times, est_freqs)\n",
    "        scores['track'] = file_key\n",
    "        all_scores.append(scores)\n",
    "\n",
    "    # save scores to data frame\n",
    "    save_path = '../outputs'\n",
    "    scores_path = os.path.join(\n",
    "        save_path, '{}_{}_all_scores.csv'.format(test_set_name, algorithm_name)\n",
    "    )\n",
    "    score_summary_path = os.path.join(\n",
    "        save_path, \"{}_{}_score_summary.csv\".format(test_set_name, algorithm_name)\n",
    "    )\n",
    "    df = pandas.DataFrame(all_scores)\n",
    "    df.to_csv(scores_path)\n",
    "    df.describe().to_csv(score_summary_path)\n",
    "    print(df.describe())"
   ]
  },
  {
   "cell_type": "code",
   "execution_count": null,
   "metadata": {},
   "outputs": [],
   "source": []
  },
  {
   "cell_type": "code",
   "execution_count": null,
   "metadata": {},
   "outputs": [],
   "source": []
  },
  {
   "cell_type": "code",
   "execution_count": null,
   "metadata": {},
   "outputs": [],
   "source": []
  }
 ],
 "metadata": {
  "kernelspec": {
   "display_name": "Python [conda env:anaconda3]",
   "language": "python",
   "name": "conda-env-anaconda3-py"
  },
  "language_info": {
   "codemirror_mode": {
    "name": "ipython",
    "version": 3
   },
   "file_extension": ".py",
   "mimetype": "text/x-python",
   "name": "python",
   "nbconvert_exporter": "python",
   "pygments_lexer": "ipython3",
   "version": "3.6.3"
  }
 },
 "nbformat": 4,
 "nbformat_minor": 2
}
